{
 "cells": [
  {
   "cell_type": "code",
   "execution_count": 1,
   "metadata": {
    "collapsed": true
   },
   "outputs": [],
   "source": [
    "import numpy as np"
   ]
  },
  {
   "cell_type": "code",
   "execution_count": 2,
   "metadata": {
    "collapsed": false
   },
   "outputs": [
    {
     "data": {
      "text/plain": [
       "200"
      ]
     },
     "execution_count": 2,
     "metadata": {},
     "output_type": "execute_result"
    }
   ],
   "source": [
    "ham = \"data/enron_mail/ham/\"\n",
    "spam = \"data/enron_mail/spam/\"\n",
    "\n",
    "from os import listdir\n",
    "from os.path import isfile, join\n",
    "\n",
    "hamfiles = [ham+f for f in listdir(ham) if isfile(join(ham, f))]\n",
    "spamfiles = [spam+f for f in listdir(spam) if isfile(join(spam, f))]\n",
    "\n",
    "allfiles = hamfiles[:100] + spamfiles[:100]\n",
    "len(allfiles)"
   ]
  },
  {
   "cell_type": "code",
   "execution_count": 3,
   "metadata": {
    "collapsed": false
   },
   "outputs": [
    {
     "name": "stdout",
     "output_type": "stream",
     "text": [
      "'utf-8' codec can't decode byte 0xa9 in position 478: invalid start byte\n",
      "'utf-8' codec can't decode byte 0xe2 in position 480: invalid continuation byte\n",
      "'utf-8' codec can't decode byte 0x93 in position 1085: invalid start byte\n",
      "'utf-8' codec can't decode byte 0x93 in position 1085: invalid start byte\n",
      "'utf-8' codec can't decode byte 0xf4 in position 1267: invalid continuation byte\n",
      "'utf-8' codec can't decode byte 0xe2 in position 49: invalid continuation byte\n",
      "'utf-8' codec can't decode byte 0xf4 in position 1267: invalid continuation byte\n",
      "'utf-8' codec can't decode byte 0xe9 in position 251: invalid continuation byte\n",
      "'utf-8' codec can't decode byte 0xe2 in position 35: invalid continuation byte\n",
      "'utf-8' codec can't decode byte 0xdd in position 61: invalid continuation byte\n"
     ]
    },
    {
     "data": {
      "text/plain": [
       "['Subject: christmas tree farm pictures\\n']"
      ]
     },
     "execution_count": 3,
     "metadata": {},
     "output_type": "execute_result"
    }
   ],
   "source": [
    "message_list = []\n",
    "for file in allfiles:\n",
    "    try:\n",
    "        with open(file, \"r\", encoding=\"utf-8\") as f:\n",
    "            message_list.append(f.read())\n",
    "    except UnicodeDecodeError as e:\n",
    "        print(e)\n",
    "    \n",
    "message_list[:1]        "
   ]
  },
  {
   "cell_type": "code",
   "execution_count": 4,
   "metadata": {
    "collapsed": false
   },
   "outputs": [
    {
     "data": {
      "text/plain": [
       "7041"
      ]
     },
     "execution_count": 4,
     "metadata": {},
     "output_type": "execute_result"
    }
   ],
   "source": [
    "message_text = \"\".join(message_list)\n",
    "\n",
    "import re\n",
    "\n",
    "def bag_of_word(message):\n",
    "    message = message.lower() \n",
    "    all_words = re.findall(\"[a-z']+\", message)\n",
    "    return list(set(all_words))\n",
    "\n",
    "def count_bag_of_word(message):\n",
    "    message = message.lower() \n",
    "    all_words = re.findall(\"[a-z]+\", message)\n",
    "    return all_words\n",
    "\n",
    "word_vector = bag_of_word(message_text)\n",
    "len(word_vector)"
   ]
  },
  {
   "cell_type": "code",
   "execution_count": 5,
   "metadata": {
    "collapsed": false
   },
   "outputs": [
    {
     "name": "stdout",
     "output_type": "stream",
     "text": [
      "'adr' is not in list\n",
      "'clayton' is not in list\n",
      "'clayton' is not in list\n",
      "'xls' is not in list\n",
      "'otavio' is not in list\n"
     ]
    }
   ],
   "source": [
    "y_data = []\n",
    "x_data = []\n",
    "\n",
    "\n",
    "for file in hamfiles[:100]:\n",
    "    try:\n",
    "        with open(file, \"r\", encoding=\"utf-8\") as f:\n",
    "            y_data.append(0)\n",
    "            temp_vector = [0 for _ in range(len(word_vector))]\n",
    "            try:\n",
    "                word_index = [word_vector.index(value) for value in count_bag_of_word(f.read())]\n",
    "            except ValueError as e:\n",
    "                print(e)\n",
    "            for index in word_index:\n",
    "                temp_vector[index] += 1\n",
    "            x_data.append(temp_vector)\n",
    "    except UnicodeDecodeError as e:\n",
    "        pass"
   ]
  },
  {
   "cell_type": "code",
   "execution_count": 6,
   "metadata": {
    "collapsed": false
   },
   "outputs": [
    {
     "name": "stdout",
     "output_type": "stream",
     "text": [
      "'utf-8' codec can't decode byte 0xa9 in position 478: invalid start byte\n",
      "'mpkemyrxlpq' is not in list\n",
      "'utf-8' codec can't decode byte 0xe2 in position 480: invalid continuation byte\n",
      "'utf-8' codec can't decode byte 0x93 in position 1085: invalid start byte\n",
      "'utf-8' codec can't decode byte 0x93 in position 1085: invalid start byte\n",
      "'biwven' is not in list\n",
      "'scuttle' is not in list\n",
      "'bytesize' is not in list\n",
      "'utf-8' codec can't decode byte 0xf4 in position 1267: invalid continuation byte\n",
      "'utf-8' codec can't decode byte 0xe2 in position 49: invalid continuation byte\n",
      "'alghtrdtdsl' is not in list\n",
      "'vyxjwueppxjhr' is not in list\n",
      "'bandgap' is not in list\n",
      "'utf-8' codec can't decode byte 0xf4 in position 1267: invalid continuation byte\n",
      "'ozqlakrx' is not in list\n",
      "'utf-8' codec can't decode byte 0xe9 in position 251: invalid continuation byte\n",
      "'salad' is not in list\n",
      "'llrwi' is not in list\n",
      "'portal' is not in list\n",
      "'utf-8' codec can't decode byte 0xe2 in position 35: invalid continuation byte\n",
      "'utf-8' codec can't decode byte 0xdd in position 61: invalid continuation byte\n"
     ]
    },
    {
     "data": {
      "text/plain": [
       "(200, 200)"
      ]
     },
     "execution_count": 6,
     "metadata": {},
     "output_type": "execute_result"
    }
   ],
   "source": [
    "for file in spamfiles[:100]:\n",
    "    try:\n",
    "        with open(file, \"r\",  encoding=\"utf-8\") as f:\n",
    "            y_data.append(1)\n",
    "            temp_vector = [0 for _ in range(len(word_vector))]\n",
    "            try:\n",
    "                word_index = [word_vector.index(value) for value in count_bag_of_word(f.read())]\n",
    "            except ValueError as e:\n",
    "                print(e)\n",
    "            for index in word_index:\n",
    "                temp_vector[index] += 1\n",
    "            x_data.append(temp_vector)\n",
    "    except UnicodeDecodeError as e:\n",
    "        pass\n",
    "\n",
    "len(y_data), len(x_data)"
   ]
  },
  {
   "cell_type": "code",
   "execution_count": 8,
   "metadata": {
    "collapsed": false
   },
   "outputs": [
    {
     "name": "stdout",
     "output_type": "stream",
     "text": [
      "0.966666666667\n",
      "0.95\n",
      "0.9\n",
      "0.933333333333\n",
      "0.95\n",
      "0.9\n",
      "0.966666666667\n",
      "0.95\n",
      "0.933333333333\n",
      "0.9\n"
     ]
    }
   ],
   "source": [
    "from sklearn.cross_validation import KFold,ShuffleSplit\n",
    "from sklearn.naive_bayes import GaussianNB\n",
    "\n",
    "cv  = ShuffleSplit(len(y_data),  n_iter=10, test_size=0.3, random_state=0)\n",
    "\n",
    "y_data = np.array(y_data)\n",
    "x_data = np.array(x_data)\n",
    "\n",
    "for train_index, test_index in cv :\n",
    "    x_train, x_test = x_data[train_index], x_data[test_index]\n",
    "    y_train, y_test = y_data[train_index], y_data[test_index]\n",
    "    \n",
    "    clf = GaussianNB()\n",
    "    clf.fit(x_train, y_train)\n",
    "    result = clf.predict(x_test)\n",
    "    \n",
    "    print(sum(result == y_test) / len(y_test))"
   ]
  }
 ],
 "metadata": {
  "kernelspec": {
   "display_name": "Python 3",
   "language": "python",
   "name": "python3"
  },
  "language_info": {
   "codemirror_mode": {
    "name": "ipython",
    "version": 3
   },
   "file_extension": ".py",
   "mimetype": "text/x-python",
   "name": "python",
   "nbconvert_exporter": "python",
   "pygments_lexer": "ipython3",
   "version": "3.4.5"
  }
 },
 "nbformat": 4,
 "nbformat_minor": 0
}
